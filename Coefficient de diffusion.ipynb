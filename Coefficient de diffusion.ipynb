{
  "nbformat": 4,
  "nbformat_minor": 0,
  "metadata": {
    "colab": {
      "provenance": [],
      "authorship_tag": "ABX9TyP/v4X/py7IAvm4LOCXqeVb",
      "include_colab_link": true
    },
    "kernelspec": {
      "name": "python3",
      "display_name": "Python 3"
    },
    "language_info": {
      "name": "python"
    },
    "widgets": {
      "application/vnd.jupyter.widget-state+json": {
        "856c6e79438549388f93def7068a0386": {
          "model_module": "@jupyter-widgets/controls",
          "model_name": "FloatTextModel",
          "model_module_version": "1.5.0",
          "state": {
            "_dom_classes": [],
            "_model_module": "@jupyter-widgets/controls",
            "_model_module_version": "1.5.0",
            "_model_name": "FloatTextModel",
            "_view_count": null,
            "_view_module": "@jupyter-widgets/controls",
            "_view_module_version": "1.5.0",
            "_view_name": "FloatTextView",
            "continuous_update": false,
            "description": "xA :",
            "description_tooltip": null,
            "disabled": false,
            "layout": "IPY_MODEL_8e16b21bc686453fb7feff7b68e232cd",
            "step": null,
            "style": "IPY_MODEL_be1ccdd3b1f8480f811ebcaae930bce6",
            "value": 0.25
          }
        },
        "8e16b21bc686453fb7feff7b68e232cd": {
          "model_module": "@jupyter-widgets/base",
          "model_name": "LayoutModel",
          "model_module_version": "1.2.0",
          "state": {
            "_model_module": "@jupyter-widgets/base",
            "_model_module_version": "1.2.0",
            "_model_name": "LayoutModel",
            "_view_count": null,
            "_view_module": "@jupyter-widgets/base",
            "_view_module_version": "1.2.0",
            "_view_name": "LayoutView",
            "align_content": null,
            "align_items": null,
            "align_self": null,
            "border": null,
            "bottom": null,
            "display": null,
            "flex": null,
            "flex_flow": null,
            "grid_area": null,
            "grid_auto_columns": null,
            "grid_auto_flow": null,
            "grid_auto_rows": null,
            "grid_column": null,
            "grid_gap": null,
            "grid_row": null,
            "grid_template_areas": null,
            "grid_template_columns": null,
            "grid_template_rows": null,
            "height": null,
            "justify_content": null,
            "justify_items": null,
            "left": null,
            "margin": null,
            "max_height": null,
            "max_width": null,
            "min_height": null,
            "min_width": null,
            "object_fit": null,
            "object_position": null,
            "order": null,
            "overflow": null,
            "overflow_x": null,
            "overflow_y": null,
            "padding": null,
            "right": null,
            "top": null,
            "visibility": null,
            "width": null
          }
        },
        "be1ccdd3b1f8480f811ebcaae930bce6": {
          "model_module": "@jupyter-widgets/controls",
          "model_name": "DescriptionStyleModel",
          "model_module_version": "1.5.0",
          "state": {
            "_model_module": "@jupyter-widgets/controls",
            "_model_module_version": "1.5.0",
            "_model_name": "DescriptionStyleModel",
            "_view_count": null,
            "_view_module": "@jupyter-widgets/base",
            "_view_module_version": "1.2.0",
            "_view_name": "StyleView",
            "description_width": ""
          }
        },
        "98782bc6b28d4bc595e41884cbd99a5e": {
          "model_module": "@jupyter-widgets/controls",
          "model_name": "FloatTextModel",
          "model_module_version": "1.5.0",
          "state": {
            "_dom_classes": [],
            "_model_module": "@jupyter-widgets/controls",
            "_model_module_version": "1.5.0",
            "_model_name": "FloatTextModel",
            "_view_count": null,
            "_view_module": "@jupyter-widgets/controls",
            "_view_module_version": "1.5.0",
            "_view_name": "FloatTextView",
            "continuous_update": false,
            "description": "xB :",
            "description_tooltip": null,
            "disabled": false,
            "layout": "IPY_MODEL_22bdca5ee4744283a967c4ba73f6916c",
            "step": null,
            "style": "IPY_MODEL_42f824fa708d493490898b2af137afcd",
            "value": 0.75
          }
        },
        "22bdca5ee4744283a967c4ba73f6916c": {
          "model_module": "@jupyter-widgets/base",
          "model_name": "LayoutModel",
          "model_module_version": "1.2.0",
          "state": {
            "_model_module": "@jupyter-widgets/base",
            "_model_module_version": "1.2.0",
            "_model_name": "LayoutModel",
            "_view_count": null,
            "_view_module": "@jupyter-widgets/base",
            "_view_module_version": "1.2.0",
            "_view_name": "LayoutView",
            "align_content": null,
            "align_items": null,
            "align_self": null,
            "border": null,
            "bottom": null,
            "display": null,
            "flex": null,
            "flex_flow": null,
            "grid_area": null,
            "grid_auto_columns": null,
            "grid_auto_flow": null,
            "grid_auto_rows": null,
            "grid_column": null,
            "grid_gap": null,
            "grid_row": null,
            "grid_template_areas": null,
            "grid_template_columns": null,
            "grid_template_rows": null,
            "height": null,
            "justify_content": null,
            "justify_items": null,
            "left": null,
            "margin": null,
            "max_height": null,
            "max_width": null,
            "min_height": null,
            "min_width": null,
            "object_fit": null,
            "object_position": null,
            "order": null,
            "overflow": null,
            "overflow_x": null,
            "overflow_y": null,
            "padding": null,
            "right": null,
            "top": null,
            "visibility": null,
            "width": null
          }
        },
        "42f824fa708d493490898b2af137afcd": {
          "model_module": "@jupyter-widgets/controls",
          "model_name": "DescriptionStyleModel",
          "model_module_version": "1.5.0",
          "state": {
            "_model_module": "@jupyter-widgets/controls",
            "_model_module_version": "1.5.0",
            "_model_name": "DescriptionStyleModel",
            "_view_count": null,
            "_view_module": "@jupyter-widgets/base",
            "_view_module_version": "1.2.0",
            "_view_name": "StyleView",
            "description_width": ""
          }
        },
        "87716daf76c6437aa6436ac4af6f9b9a": {
          "model_module": "@jupyter-widgets/controls",
          "model_name": "ButtonModel",
          "model_module_version": "1.5.0",
          "state": {
            "_dom_classes": [],
            "_model_module": "@jupyter-widgets/controls",
            "_model_module_version": "1.5.0",
            "_model_name": "ButtonModel",
            "_view_count": null,
            "_view_module": "@jupyter-widgets/controls",
            "_view_module_version": "1.5.0",
            "_view_name": "ButtonView",
            "button_style": "",
            "description": "Calculer D_AB",
            "disabled": false,
            "icon": "",
            "layout": "IPY_MODEL_93a2df2f8b874541aebf7f9a8ef04546",
            "style": "IPY_MODEL_b7727a4483a141c4a40d21ac8ec5e897",
            "tooltip": ""
          }
        },
        "93a2df2f8b874541aebf7f9a8ef04546": {
          "model_module": "@jupyter-widgets/base",
          "model_name": "LayoutModel",
          "model_module_version": "1.2.0",
          "state": {
            "_model_module": "@jupyter-widgets/base",
            "_model_module_version": "1.2.0",
            "_model_name": "LayoutModel",
            "_view_count": null,
            "_view_module": "@jupyter-widgets/base",
            "_view_module_version": "1.2.0",
            "_view_name": "LayoutView",
            "align_content": null,
            "align_items": null,
            "align_self": null,
            "border": null,
            "bottom": null,
            "display": null,
            "flex": null,
            "flex_flow": null,
            "grid_area": null,
            "grid_auto_columns": null,
            "grid_auto_flow": null,
            "grid_auto_rows": null,
            "grid_column": null,
            "grid_gap": null,
            "grid_row": null,
            "grid_template_areas": null,
            "grid_template_columns": null,
            "grid_template_rows": null,
            "height": null,
            "justify_content": null,
            "justify_items": null,
            "left": null,
            "margin": null,
            "max_height": null,
            "max_width": null,
            "min_height": null,
            "min_width": null,
            "object_fit": null,
            "object_position": null,
            "order": null,
            "overflow": null,
            "overflow_x": null,
            "overflow_y": null,
            "padding": null,
            "right": null,
            "top": null,
            "visibility": null,
            "width": null
          }
        },
        "b7727a4483a141c4a40d21ac8ec5e897": {
          "model_module": "@jupyter-widgets/controls",
          "model_name": "ButtonStyleModel",
          "model_module_version": "1.5.0",
          "state": {
            "_model_module": "@jupyter-widgets/controls",
            "_model_module_version": "1.5.0",
            "_model_name": "ButtonStyleModel",
            "_view_count": null,
            "_view_module": "@jupyter-widgets/base",
            "_view_module_version": "1.2.0",
            "_view_name": "StyleView",
            "button_color": null,
            "font_weight": ""
          }
        },
        "e0f32bc1bbb24db1a02ce66e249adc31": {
          "model_module": "@jupyter-widgets/output",
          "model_name": "OutputModel",
          "model_module_version": "1.0.0",
          "state": {
            "_dom_classes": [],
            "_model_module": "@jupyter-widgets/output",
            "_model_module_version": "1.0.0",
            "_model_name": "OutputModel",
            "_view_count": null,
            "_view_module": "@jupyter-widgets/output",
            "_view_module_version": "1.0.0",
            "_view_name": "OutputView",
            "layout": "IPY_MODEL_ecaeaa36a6404391a0e6b53e814c9302",
            "msg_id": "",
            "outputs": [
              {
                "output_type": "stream",
                "name": "stdout",
                "text": [
                  "D_AB calculé = 1.351658e-05 cm²/s\n",
                  "Erreur = 1.63 %\n"
                ]
              }
            ]
          }
        },
        "ecaeaa36a6404391a0e6b53e814c9302": {
          "model_module": "@jupyter-widgets/base",
          "model_name": "LayoutModel",
          "model_module_version": "1.2.0",
          "state": {
            "_model_module": "@jupyter-widgets/base",
            "_model_module_version": "1.2.0",
            "_model_name": "LayoutModel",
            "_view_count": null,
            "_view_module": "@jupyter-widgets/base",
            "_view_module_version": "1.2.0",
            "_view_name": "LayoutView",
            "align_content": null,
            "align_items": null,
            "align_self": null,
            "border": null,
            "bottom": null,
            "display": null,
            "flex": null,
            "flex_flow": null,
            "grid_area": null,
            "grid_auto_columns": null,
            "grid_auto_flow": null,
            "grid_auto_rows": null,
            "grid_column": null,
            "grid_gap": null,
            "grid_row": null,
            "grid_template_areas": null,
            "grid_template_columns": null,
            "grid_template_rows": null,
            "height": null,
            "justify_content": null,
            "justify_items": null,
            "left": null,
            "margin": null,
            "max_height": null,
            "max_width": null,
            "min_height": null,
            "min_width": null,
            "object_fit": null,
            "object_position": null,
            "order": null,
            "overflow": null,
            "overflow_x": null,
            "overflow_y": null,
            "padding": null,
            "right": null,
            "top": null,
            "visibility": null,
            "width": null
          }
        }
      }
    }
  },
  "cells": [
    {
      "cell_type": "markdown",
      "metadata": {
        "id": "view-in-github",
        "colab_type": "text"
      },
      "source": [
        "<a href=\"https://colab.research.google.com/github/Douhaelangoud/coefficient-diffusion/blob/main/Coefficient%20de%20diffusion.ipynb\" target=\"_parent\"><img src=\"https://colab.research.google.com/assets/colab-badge.svg\" alt=\"Open In Colab\"/></a>"
      ]
    },
    {
      "cell_type": "code",
      "source": [
        "import numpy as np\n",
        "def compute_diffusion_coefficient():\n",
        "    # Données du problème\n",
        "    D_AB_0_A = 2.1e-5  # cm^2/s\n",
        "    D_AB_0_B = 2.67e-5  # cm^2/s\n",
        "    x_A = 0.25\n",
        "    x_B = 0.75\n",
        "\n",
        "    # Paramètres UNIFAC\n",
        "    lambda_A = 1.127\n",
        "    lambda_B = 0.973\n",
        "    q_A = 1.432\n",
        "    q_B = 1.4\n",
        "\n",
        "    phi_A = x_A * lambda_A / (x_A * lambda_A + x_B * lambda_B)\n",
        "    phi_B = x_B * lambda_B / (x_A * lambda_A + x_B * lambda_B)\n",
        "\n",
        "    theta_A = 0.254\n",
        "    theta_B = 0.721\n",
        "    theta_BA = 0.612\n",
        "    theta_AB = 0.261\n",
        "    theta_AA = 0.388\n",
        "    theta_BB = 0.739\n",
        "\n",
        "    tau_AB = 1.035\n",
        "    tau_BA = 0.5373\n",
        "\n",
        "    # Calcul des termes de l'équation\n",
        "    term1 = x_B * np.log(D_AB_0_A) + x_A * np.log(D_AB_0_B)\n",
        "    term2 = 2 * (x_A * np.log(x_A / phi_A) + x_B * np.log(x_B / phi_B))\n",
        "    term3 = 2 * x_A* x_B * ((phi_A / x_A) * (1 - (lambda_A / lambda_B)) +  (phi_B / x_B) * (1 - (lambda_B / lambda_A)))\n",
        "    term4 = (x_B * q_A) * ((1 - theta_BA **2) * np.log(tau_BA) + (1 - theta_BB **2) * tau_AB*np.log(tau_AB))\n",
        "    term5 = (x_A * q_B) * ((1 - theta_AB *2) * np.log(tau_AB) + (1 - theta_AA **2) * tau_BA*np.log(tau_BA))\n",
        "\n",
        "    ln_D_AB = term1 + term2 + term3 + term4 + term5\n",
        "    D_AB = np.exp(ln_D_AB)\n",
        "     # Calcul d'erreur)\n",
        "    D_exp = D_AB / 1.016\n",
        "    error = abs((D_AB - D_exp) / D_exp) * 100\n",
        "\n",
        "    return D_AB, error\n",
        "    # Exécution et affichage des résultats\n",
        "D_AB, error = compute_diffusion_coefficient()\n",
        "print(f\"Coefficient de diffusion D_AB: {D_AB:.4e} cm^2/s\")\n",
        "print(f\"Erreur: {error:.2f}%\")"
      ],
      "metadata": {
        "colab": {
          "base_uri": "https://localhost:8080/"
        },
        "id": "E_GfISkS6nH0",
        "outputId": "2135ba64-79b4-430e-91b3-c4eb6732b773"
      },
      "execution_count": 68,
      "outputs": [
        {
          "output_type": "stream",
          "name": "stdout",
          "text": [
            "Coefficient de diffusion D_AB: 1.3443e-05 cm^2/s\n",
            "Erreur: 1.60%\n"
          ]
        }
      ]
    },
    {
      "cell_type": "code",
      "source": [
        "import ipywidgets as widgets\n",
        "from IPython.display import display, clear_output\n",
        "import numpy as np\n",
        "\n",
        "# Création des champs de saisie\n",
        "xA_input = widgets.FloatText(description=\"xA :\", value=0.5)\n",
        "xB_input = widgets.FloatText(description=\"xB :\", value=0.5)\n",
        "\n",
        "# Zone d'affichage des résultats\n",
        "output = widgets.Output()\n",
        "\n",
        "# Fonction pour calculer D_AB et afficher le résultat\n",
        "def calculer_D_AB(b):\n",
        "    with output:\n",
        "        clear_output(wait=True)  # Efface le précédent résultat\n",
        "        xA = xA_input.value\n",
        "        xB = xB_input.value\n",
        "\n",
        "        # Vérification que xA + xB = 1\n",
        "        if abs(xA + xB - 1) > 1e-6:\n",
        "            print(\"Erreur : xA + xB doit être égal à 1\")\n",
        "            return\n",
        "\n",
        "        # Définition des constantes (remplace ces valeurs par les bonnes si besoin)\n",
        "        D_AB_0_A = 2.1e-5\n",
        "        D_AB_0_B = 2.67e-5\n",
        "        phi_A = 0.279\n",
        "        phi_B = 0.721\n",
        "        lambda_A = 1.127\n",
        "        lambda_B = 0.973\n",
        "        q_A = 1.432\n",
        "        q_B = 1.4\n",
        "        theta_BA = 0.612\n",
        "        theta_BB = 0.739\n",
        "        theta_AB = 0.261\n",
        "        theta_AA = 0.388\n",
        "        tau_BA = 0.5373\n",
        "        tau_AB = 1.035\n",
        "\n",
        "        # Calcul du coefficient de diffusion selon ta nouvelle formule\n",
        "        term1 = xB * np.log(D_AB_0_A) + xA * np.log(D_AB_0_B)\n",
        "        term2 = 2 * (xA * np.log(xA / phi_A) + xB * np.log(xB / phi_B))\n",
        "        term3 = 2 * xA * xB * ((phi_A / xA) * (1 - (lambda_A / lambda_B)) + (phi_B / xB) * (1 - (lambda_B / lambda_A)))\n",
        "        term4 = (xB * q_A) * ((1 - theta_BA **2) * np.log(tau_BA) + (1 - theta_BB **2) * tau_AB * np.log(tau_AB))\n",
        "        term5 = (xA * q_B) * ((1 - theta_AB **2) * np.log(tau_AB) + (1 - theta_AA **2) * tau_BA * np.log(tau_BA))\n",
        "\n",
        "        ln_D_AB = term1 + term2 + term3 + term4 + term5\n",
        "        D_AB_calculé = np.exp(ln_D_AB)  # Nouvelle expression pour D_AB\n",
        "\n",
        "        D_AB_réel = 1.33e-5  # Exemple de valeur de référence\n",
        "\n",
        "        # Calcul de l'erreur en pourcentage\n",
        "        erreur = abs((D_AB_calculé - D_AB_réel) / D_AB_réel) * 100\n",
        "\n",
        "        # Affichage des résultats\n",
        "        print(f\"D_AB calculé = {D_AB_calculé:.6e} cm²/s\")  # Format scientifique\n",
        "        print(f\"Erreur = {erreur:.2f} %\")\n",
        "\n",
        "# Bouton pour lancer le calcul\n",
        "btn_calculer = widgets.Button(description=\"Calculer D_AB\")\n",
        "btn_calculer.on_click(calculer_D_AB)\n",
        "\n",
        "# Affichage des widgets\n",
        "display(xA_input, xB_input, btn_calculer, output)"
      ],
      "metadata": {
        "colab": {
          "base_uri": "https://localhost:8080/",
          "height": 146,
          "referenced_widgets": [
            "856c6e79438549388f93def7068a0386",
            "8e16b21bc686453fb7feff7b68e232cd",
            "be1ccdd3b1f8480f811ebcaae930bce6",
            "98782bc6b28d4bc595e41884cbd99a5e",
            "22bdca5ee4744283a967c4ba73f6916c",
            "42f824fa708d493490898b2af137afcd",
            "87716daf76c6437aa6436ac4af6f9b9a",
            "93a2df2f8b874541aebf7f9a8ef04546",
            "b7727a4483a141c4a40d21ac8ec5e897",
            "e0f32bc1bbb24db1a02ce66e249adc31",
            "ecaeaa36a6404391a0e6b53e814c9302"
          ]
        },
        "id": "x7pGEMBS6xNB",
        "outputId": "1de2c1ae-1bd1-4765-9f30-6aa4cf475ce4"
      },
      "execution_count": 67,
      "outputs": [
        {
          "output_type": "display_data",
          "data": {
            "text/plain": [
              "FloatText(value=0.5, description='xA :')"
            ],
            "application/vnd.jupyter.widget-view+json": {
              "version_major": 2,
              "version_minor": 0,
              "model_id": "856c6e79438549388f93def7068a0386"
            }
          },
          "metadata": {}
        },
        {
          "output_type": "display_data",
          "data": {
            "text/plain": [
              "FloatText(value=0.5, description='xB :')"
            ],
            "application/vnd.jupyter.widget-view+json": {
              "version_major": 2,
              "version_minor": 0,
              "model_id": "98782bc6b28d4bc595e41884cbd99a5e"
            }
          },
          "metadata": {}
        },
        {
          "output_type": "display_data",
          "data": {
            "text/plain": [
              "Button(description='Calculer D_AB', style=ButtonStyle())"
            ],
            "application/vnd.jupyter.widget-view+json": {
              "version_major": 2,
              "version_minor": 0,
              "model_id": "87716daf76c6437aa6436ac4af6f9b9a"
            }
          },
          "metadata": {}
        },
        {
          "output_type": "display_data",
          "data": {
            "text/plain": [
              "Output()"
            ],
            "application/vnd.jupyter.widget-view+json": {
              "version_major": 2,
              "version_minor": 0,
              "model_id": "e0f32bc1bbb24db1a02ce66e249adc31"
            }
          },
          "metadata": {}
        }
      ]
    }
  ]
}